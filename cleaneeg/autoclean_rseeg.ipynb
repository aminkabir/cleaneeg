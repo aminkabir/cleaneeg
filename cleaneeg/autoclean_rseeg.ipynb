{
 "cells": [
  {
   "cell_type": "markdown",
   "id": "be58c31a-9193-4030-816f-cf2cfb6d58da",
   "metadata": {},
   "source": [
    "# Resting-State EEG pre-processing Tutorial with MNE-Python\n",
    "This tutorial demonstrates a complete, production-ready pipeline for processing resting-state EEG data using MNE-Python and complementary libraries. Based on best practices from the CleanEEG application, it covers advanced preprocessing techniques including ASR, EOG regression, and automated artifact detection."
   ]
  },
  {
   "metadata": {},
   "cell_type": "markdown",
   "source": [
    "# Table of Contents\n",
    "\n",
    "Installation and Setup\n",
    "\n",
    "Loading EEG Data\n",
    "\n",
    "Channel Montage Setup\n",
    "\n",
    "Basic Preprocessing\n",
    "\n",
    "Advanced Noise Removal\n",
    "\n",
    "Bad Channel Detection\n",
    "\n",
    "Artifact Removal Methods\n",
    "\n",
    "Channel Interpolation\n",
    "\n",
    "Quality Assessment\n",
    "\n",
    "Saving and Reporting"
   ],
   "id": "9f6a16d011387348"
  },
  {
   "cell_type": "markdown",
   "id": "7e1a6625-e62b-40e5-8ea4-9fc809f650d7",
   "metadata": {},
   "source": [
    "## Installation and Setup"
   ]
  },
  {
   "cell_type": "code",
   "execution_count": null,
   "id": "97ae8259-43fd-49dd-8d8b-624575c2042b",
   "metadata": {},
   "outputs": [],
   "source": [
    "# Install required packages for EEG processing and visualization\n",
    "!pip install mne             # Core package for EEG/MEG data analysis\n",
    "!pip install pyprep          # For automatic bad channel detection\n",
    "!pip install meegkit         # For advanced denoising methods\n",
    "!pip install mne-icalabel    # For automatic classification of ICA components\n",
    "!pip install matplotlib      # For visualization\n",
    "!pip install numpy           # For numerical operations"
   ]
  },
  {
   "cell_type": "markdown",
   "id": "24727ba2-5d1a-4963-b1ff-bcbedd00a1fa",
   "metadata": {},
   "source": [
    "## Loading Sample Data (Optional)\n",
    "If you don't have your own resting-state EEG data, you can download a sample dataset:"
   ]
  },
  {
   "cell_type": "code",
   "execution_count": null,
   "id": "192762da-8650-4249-a69d-a91a6fa6c783",
   "metadata": {},
   "outputs": [],
   "source": [
    "# Download a sample EEG dataset if needed\n",
    "from pathlib import Path\n",
    "from get_sample_data import download_sample_data\n",
    "\n",
    "# Download sample data from the MPI-Leipzig LEMON dataset\n",
    "# This dataset contains high-quality resting-state EEG recordings\n",
    "download_sample_data(\n",
    "    ftp_host='ftp.gwdg.de',\n",
    "    ftp_base='/pub/misc/MPI-Leipzig_Mind-Brain-Body-LEMON/EEG_MPILMBB_LEMON/EEG_Raw_BIDS_ID',\n",
    "    local_base=Path('sample_data'),\n",
    "    num_subjects=1  # Download just one subject for this tutorial\n",
    ")"
   ]
  },
  {
   "cell_type": "markdown",
   "id": "df1f7e84-085c-4205-b37f-e0a818030ba1",
   "metadata": {},
   "source": [
    "# Loading EEG Data with MNE-Python\n",
    "MNE-Python supports various EEG file formats (.vhdr, .edf, .bdf, .set, etc.)"
   ]
  },
  {
   "cell_type": "code",
   "execution_count": null,
   "id": "c9b927d0-cf4b-49d5-8b23-97b2d445ea26",
   "metadata": {},
   "outputs": [],
   "source": [
    "import mne\n",
    "from pathlib import Path\n",
    "\n",
    "# List of valid EEG file extensions that MNE can read\n",
    "valid_eeg_formats = [\".vhdr\", \".edf\", \".bdf\", \".gdf\", \".cnt\", \".egi\", \n",
    "                    \".mff\", \".set\", \".fif\", \".data\", \".nxe\", \".lay\"]\n",
    "\n",
    "# Define the base directory where your data is located\n",
    "base_dir = Path('sample_data')\n",
    "subject_id = None  # Set to None to use the first available subject\n",
    "\n",
    "# Find subject directory\n",
    "if subject_id is None:\n",
    "    # List only directories, sorted alphabetically\n",
    "    subdirs = sorted([d for d in base_dir.iterdir() if d.is_dir()])\n",
    "    if not subdirs:\n",
    "        raise FileNotFoundError(f\"No subject folders found under {base_dir}\")\n",
    "    subject_dir = subdirs[0]\n",
    "    subject_id = subject_dir.name\n",
    "    print(f\"→ No subject_id given; using first available folder: {subject_id}\")\n",
    "else:\n",
    "    subject_dir = base_dir / subject_id\n",
    "\n",
    "# Find the first file with a valid EEG format\n",
    "eeg_files = []\n",
    "for ext in valid_eeg_formats:\n",
    "    eeg_files.extend(list(subject_dir.rglob(f\"*{ext}\")))\n",
    "\n",
    "if not eeg_files:\n",
    "    raise FileNotFoundError(f\"No valid EEG files found under {subject_dir}\")\n",
    "\n",
    "# Use the first valid EEG file found\n",
    "eeg_path = eeg_files[0]\n",
    "print(f\"Loading {eeg_path}\")\n",
    "\n",
    "# Read the EEG data using MNE's io module\n",
    "# preload=True loads all data into memory for faster processing\n",
    "raw = mne.io.read_raw(eeg_path, preload=True)\n",
    "\n",
    "# Print basic information about the loaded data\n",
    "print(\"\\nEEG Info:\")\n",
    "print(f\"- File format: {eeg_path.suffix}\")\n",
    "print(f\"- Sampling rate: {raw.info['sfreq']} Hz\")\n",
    "print(f\"- Duration: {raw.times[-1]:.1f} seconds\")\n",
    "print(f\"- Number of channels: {len(raw.ch_names)}\")\n",
    "print(f\"- Channel Names: {raw.ch_names}\")"
   ]
  },
  {
   "cell_type": "markdown",
   "id": "ad106c8c-b907-4f86-8e87-8b2b406578fe",
   "metadata": {},
   "source": [
    "## Setting Up Channel Locations"
   ]
  },
  {
   "cell_type": "code",
   "execution_count": null,
   "id": "f4fad717-175c-4f4f-a646-fa32503c21cb",
   "metadata": {},
   "outputs": [],
   "source": [
    "# Drop any non-EEG channels (e.g., VEOG for vertical eye movement)\n",
    "if 'VEOG' in raw.ch_names:\n",
    "    raw.drop_channels(['VEOG'])\n",
    "    print(\"→ Channel 'VEOG' dropped.\")\n",
    "else:\n",
    "    print(\"→ Channel 'VEOG' not found; no channels removed.\")\n",
    "\n",
    "# Verify channels list\n",
    "print(\"Current channels:\", raw.ch_names)\n",
    "\n",
    "# Create a standard montage (BrainProducts RNP-BA-128)\n",
    "montage = mne.channels.make_standard_montage('brainproducts-RNP-BA-128')\n",
    "\n",
    "# Apply the montage to our raw data\n",
    "# match_case=False allows for case-insensitive matching of channel names\n",
    "# on_missing='warn' alerts us if channels don't match the montage\n",
    "raw.set_montage(montage, match_case=False, on_missing='warn')\n",
    "\n",
    "# Plot sensor locations to verify\n",
    "# 2D topographic view of sensor locations\n",
    "raw.plot_sensors(\n",
    "    kind='topomap',\n",
    "    show_names=True,\n",
    "    title='2D EEG Sensor Montage'\n",
    ")\n",
    "\n",
    "# 3D view of sensor locations on a spherical head model\n",
    "raw.plot_sensors(\n",
    "    kind='3d',\n",
    "    show_names=True,\n",
    "    title='3D EEG Sensor Montage'\n",
    ")"
   ]
  },
  {
   "cell_type": "markdown",
   "id": "68f49046-7e44-4f44-bb90-bff98ce36b74",
   "metadata": {},
   "source": [
    "## Initial Data Inspection\n",
    "Before processing, let's visualize the raw data to understand what we're working with:"
   ]
  },
  {
   "cell_type": "markdown",
   "id": "38d41094-f6b5-49ec-b072-3e6be618d05c",
   "metadata": {},
   "source": [
    "### Plot the raw data"
   ]
  },
  {
   "cell_type": "code",
   "execution_count": null,
   "id": "6f937f59-6f05-46b9-8b14-3258b778d74d",
   "metadata": {},
   "outputs": [],
   "source": [
    "# This shows the time-domain signal for each EEG channel\n",
    "raw.plot(scalings='auto')"
   ]
  },
  {
   "cell_type": "markdown",
   "id": "170e60d4-9814-48a3-b770-075c5c027ba2",
   "metadata": {},
   "source": [
    "### Calculate and plot the power spectral density (PSD)"
   ]
  },
  {
   "cell_type": "code",
   "execution_count": null,
   "id": "5deb4a28-46ac-43ac-b1bd-cf1d739ae059",
   "metadata": {},
   "outputs": [],
   "source": [
    "# This shows the frequency content of the EEG signal\n",
    "raw.compute_psd(fmin=1, fmax=40).plot(show=False)"
   ]
  },
  {
   "cell_type": "markdown",
   "id": "e452654b-43f0-4722-904d-ec592f8863b0",
   "metadata": {},
   "source": [
    "## Basic Preprocessing\n",
    "Now let's perform some initial preprocessing steps:"
   ]
  },
  {
   "cell_type": "code",
   "execution_count": null,
   "id": "d297c66a-0f85-4868-9dc2-fed39e6aced8",
   "metadata": {},
   "outputs": [],
   "source": [
    "# Create a copy of the raw data for processing\n",
    "raw_processed = raw.copy()\n",
    "\n",
    "# Step 1: Downsample the data to reduce computational load\n",
    "# High sampling rates aren't always necessary for EEG analysis\n",
    "print('Original Sampling Rate:', raw_processed.info['sfreq'])\n",
    "if raw_processed.info['sfreq'] > 1000:\n",
    "    raw_processed = raw_processed.resample(1000)  # Downsample to 1000 Hz\n",
    "    print('New Sampling Rate:', raw_processed.info['sfreq'])\n",
    "\n",
    "# Step 2: Remove power line noise using DSS (Denoising Source Separation)\n",
    "# This is more effective than a notch filter for line noise removal\n",
    "from meegkit import dss\n",
    "\n",
    "# Define the line noise frequency (50 Hz in Europe, 60 Hz in US/Canada)\n",
    "line_noise_frequency = 50  \n",
    "\n",
    "# Get the EEG data as a numpy array (channels x time)\n",
    "eeg_data = raw_processed.get_data()\n",
    "\n",
    "# Apply DSS algorithm to remove line noise\n",
    "# dss_line finds components that represent line noise and removes them\n",
    "processed_data, components = dss.dss_line(\n",
    "    eeg_data.T,                           # Data must be (time x channels)\n",
    "    fline=line_noise_frequency,           # Line frequency to target\n",
    "    sfreq=raw_processed.info['sfreq'],    # Sampling frequency\n",
    "    show=False                            # Don't show the components\n",
    ")\n",
    "\n",
    "# Update the data in our raw object\n",
    "raw_processed._data = processed_data.T    # Convert back to (channels x time)\n",
    "\n",
    "# Step 3: Apply bandpass filter to focus on frequencies of interest\n",
    "# This removes slow drifts and high-frequency noise\n",
    "raw_processed.filter(\n",
    "    l_freq=1,     # High-pass filter cutoff at 1 Hz\n",
    "    h_freq=100,   # Low-pass filter cutoff at 100 Hz\n",
    "    method='fir'  # Finite Impulse Response filter\n",
    ")"
   ]
  },
  {
   "cell_type": "markdown",
   "id": "f2b01760-7a0a-405d-8c56-fad33788c577",
   "metadata": {},
   "source": [
    "## Automatic Bad Channel Detection\n",
    "Bad channels can severely distort analyses and should be identified:"
   ]
  },
  {
   "cell_type": "code",
   "execution_count": null,
   "id": "c6b635d3-5ec6-46a5-b293-78ccd1af47c2",
   "metadata": {},
   "outputs": [],
   "source": [
    "# Use PyPrep to automatically detect noisy/bad channels\n",
    "from pyprep.find_noisy_channels import NoisyChannels\n",
    "\n",
    "# Create a NoisyChannels object and find all types of bad channels\n",
    "nd = NoisyChannels(raw_processed, random_state=1337)\n",
    "nd.find_all_bads()\n",
    "\n",
    "# Get the list of bad channels detected\n",
    "if nd:\n",
    "    bad_channels = nd.get_bads()\n",
    "    print(f\"Detected bad channels: {bad_channels}\")\n",
    "    \n",
    "    # Mark these channels as bad in our data\n",
    "    raw_processed.info['bads'] = bad_channels\n",
    "    \n",
    "    # Exclude the detected noisy channels from further processing\n",
    "    # This doesn't drop them, just ignores them temporarily\n",
    "    raw_processed.pick(picks='eeg', exclude='bads')\n",
    "else:\n",
    "    print(\"No bad channels detected\")"
   ]
  },
  {
   "cell_type": "markdown",
   "id": "bb20190e-3d53-4ff4-a42d-1aeecbc688a2",
   "metadata": {},
   "source": [
    "## Artifact Removal with ICA\n",
    "Independent Component Analysis (ICA) is a powerful method for identifying and removing artifacts:"
   ]
  },
  {
   "cell_type": "code",
   "execution_count": null,
   "id": "7a65c938-86c0-4f5f-93b0-948c22d4f4fe",
   "metadata": {},
   "outputs": [],
   "source": [
    "# Apply ICA to decompose signals into independent components\n",
    "from mne.preprocessing import ICA\n",
    "from mne_icalabel import label_components\n",
    "\n",
    "# First, re-reference to average to improve ICA decomposition\n",
    "raw_processed.set_eeg_reference('average')\n",
    "\n",
    "# Create an ICA object (we'll use FastICA which is faster than Infomax)\n",
    "# n_components=None uses all components\n",
    "ica = ICA(n_components=None, random_state=97, method=\"fastica\")\n",
    "\n",
    "# Fit the ICA model to our preprocessed data\n",
    "ica.fit(raw_processed)\n",
    "\n",
    "# Use ICLabel to automatically classify components\n",
    "# ICLabel uses a deep neural network to classify components as:\n",
    "# 'brain', 'muscle artifact', 'eye blink', 'heart beat', 'line noise', 'channel noise', or 'other'\n",
    "ic_labels = label_components(raw_processed, ica, method='iclabel')\n",
    "\n",
    "# Extract the labels for each component\n",
    "labels = ic_labels[\"labels\"]\n",
    "print(f\"Component classifications: {labels}\")\n",
    "\n",
    "# Determine which components to exclude (non-brain components)\n",
    "# We want to keep components labeled as 'brain' or 'other' (uncertain)\n",
    "exclude_idx = [\n",
    "    idx for idx, label in enumerate(labels) \n",
    "    if label not in [\"brain\", \"other\"]\n",
    "]\n",
    "\n",
    "print(f\"Excluding these ICA components: {exclude_idx}\")\n",
    "\n",
    "# Set the components to exclude\n",
    "ica.exclude = exclude_idx\n",
    "\n",
    "# Visualize the ICA components\n",
    "# This shows the spatial pattern and time course of each component\n",
    "ica.plot_components()\n",
    "\n",
    "# Apply ICA to remove the artifactual components\n",
    "# This reconstructs the signal without the excluded components\n",
    "raw_processed = ica.apply(raw_processed)"
   ]
  },
  {
   "cell_type": "markdown",
   "id": "fe80020c-706d-420d-b728-235732e9cb7a",
   "metadata": {},
   "source": [
    "## Channel Interpolation\n",
    "After removing bad channels and artifacts, we can interpolate the missing channels:"
   ]
  },
  {
   "cell_type": "code",
   "execution_count": null,
   "id": "5cdda0c5-b38b-437e-b67a-9555744c1dbb",
   "metadata": {},
   "outputs": [],
   "source": [
    "# Interpolate the bad channels to restore the full channel set\n",
    "# This estimates the signal at bad channel locations using nearby good channels\n",
    "raw_processed.interpolate_bads(reset_bads=False)"
   ]
  },
  {
   "cell_type": "markdown",
   "id": "72af5abf-05d1-4d33-9ada-2253778237f7",
   "metadata": {},
   "source": [
    "## Saving the Processed Data\n",
    "Finally, let's save our cleaned data for future analysis:"
   ]
  },
  {
   "cell_type": "code",
   "execution_count": null,
   "id": "b212bd93-964b-440d-b698-57a2644d285e",
   "metadata": {},
   "outputs": [],
   "source": [
    "# Save the cleaned data in MNE\n",
    "output_path = Path(f\"{subject_id}_cleaned_resting_eeg.vhdr\")\n",
    "# Export Raw to external formats\n",
    "mne.export.export_raw(output_path, raw_processed, fmt='auto', overwrite=True)\n",
    "print(f\"Cleaned data saved to {output_path}\")"
   ]
  },
  {
   "cell_type": "code",
   "execution_count": null,
   "id": "49515ec0-e7db-4baa-afad-abb473776b3e",
   "metadata": {},
   "outputs": [],
   "source": []
  }
 ],
 "metadata": {
  "kernelspec": {
   "display_name": "Python 3 (ipykernel)",
   "language": "python",
   "name": "python3"
  },
  "language_info": {
   "codemirror_mode": {
    "name": "ipython",
    "version": 3
   },
   "file_extension": ".py",
   "mimetype": "text/x-python",
   "name": "python",
   "nbconvert_exporter": "python",
   "pygments_lexer": "ipython3",
   "version": "3.12.4"
  }
 },
 "nbformat": 4,
 "nbformat_minor": 5
}
